{
 "cells": [
  {
   "cell_type": "markdown",
   "metadata": {},
   "source": [
    "<br/>\n",
    "Crie um script Python que leia o nome de uma pessoa e mostre\n",
    "<br/> uma mensagem de  boas-vindas de acordo com o valor digitado."
   ]
  },
  {
   "cell_type": "code",
   "execution_count": 1,
   "metadata": {},
   "outputs": [
    {
     "name": "stdout",
     "output_type": "stream",
     "text": [
      "Olá Anders,seja bem vindo e é um prazer te conhecer \n"
     ]
    }
   ],
   "source": [
    "nome =  input('Qual é o seu nome ?')\n",
    "print(f'Olá {nome},seja bem vindo e é um prazer te conhecer ')"
   ]
  },
  {
   "cell_type": "markdown",
   "metadata": {},
   "source": [
    "<br />Crie um script Python que leia o dia, o mês e o ano de nascimento <br />\n",
    "  de uma pessoa e mostre uma mensagem com a data formatada."
   ]
  },
  {
   "cell_type": "code",
   "execution_count": 2,
   "metadata": {},
   "outputs": [
    {
     "name": "stdout",
     "output_type": "stream",
     "text": [
      "Você nasceu no dia 26 de 01 de 1979.Correto?\n"
     ]
    }
   ],
   "source": [
    "ano = input('Qual o ano que vc nasceu?')\n",
    "mes = input('Qual o mês que vc nasceu?')\n",
    "dia = input('Qual o dia que vc nasceu?') \n",
    "print(f'Você nasceu no dia {dia} de {mes} de {ano}.Correto?')"
   ]
  },
  {
   "cell_type": "markdown",
   "metadata": {},
   "source": [
    "<br />\n",
    "Crie um script Python que leia dois numeros e\n",
    "<br /> tente mostrar a  soam entre eles"
   ]
  },
  {
   "cell_type": "code",
   "execution_count": 3,
   "metadata": {},
   "outputs": [
    {
     "name": "stdout",
     "output_type": "stream",
     "text": [
      "A soma de 56+56.0 é igual a 112.0\n"
     ]
    }
   ],
   "source": [
    "numero1 = int(input('Digite um número.'))\n",
    "numero2 = float(input('Digite um número.'))\n",
    "soma = numero1 + numero2\n",
    "print('A soma de {}+{} é igual a {}'.format(numero1,numero2,soma))"
   ]
  },
  {
   "cell_type": "code",
   "execution_count": 4,
   "metadata": {},
   "outputs": [
    {
     "name": "stdout",
     "output_type": "stream",
     "text": [
      "<class 'int'>\n",
      "<class 'float'>\n"
     ]
    }
   ],
   "source": [
    "print(type(numero1))\n",
    "print(type(soma))"
   ]
  },
  {
   "cell_type": "markdown",
   "metadata": {},
   "source": [
    "\n",
    "Faça um programa que leia algo pelo teclado e mostre na tela <br />o seu tipo primitivo e todas as informaçoes possíveis sobre ele."
   ]
  },
  {
   "cell_type": "code",
   "execution_count": 5,
   "metadata": {},
   "outputs": [
    {
     "name": "stdout",
     "output_type": "stream",
     "text": [
      "Anders\n",
      "<class 'str'>\n",
      "True\n",
      "True\n",
      "False\n",
      "False\n",
      "False\n",
      "True\n",
      "False\n"
     ]
    }
   ],
   "source": [
    "print(nome)\n",
    "print(type(nome))\n",
    "print(nome.isalnum())\n",
    "print(nome.isalpha())\n",
    "print(nome.isdecimal())\n",
    "print(nome.isupper())\n",
    "print(nome.islower())\n",
    "print(nome.istitle())\n",
    "print(nome.isspace())\n"
   ]
  },
  {
   "cell_type": "markdown",
   "metadata": {},
   "source": [
    "### Operadores \n"
   ]
  },
  {
   "cell_type": "markdown",
   "metadata": {},
   "source": [
    "**Ordem de Precedência dos Operadores** <p>\n",
    "1 - () parênteses <br/>\n",
    "2 - ** exponenciação  \n",
    "3 - *, /, % multiplicação, divisão, módulo<br/>\n",
    "4 - +, – adição, subtração<br/>"
   ]
  },
  {
   "cell_type": "code",
   "execution_count": null,
   "metadata": {},
   "outputs": [],
   "source": []
  },
  {
   "cell_type": "code",
   "execution_count": 10,
   "metadata": {},
   "outputs": [
    {
     "name": "stdout",
     "output_type": "stream",
     "text": [
      "O resultado é 6\n",
      "O resultado é 2\n",
      "O resultado é 8\n",
      "O resultado é 2.0\n",
      "O resultado é 2\n",
      "O resultado é 0\n",
      "O resultado é 16\n"
     ]
    }
   ],
   "source": [
    "quatro = 4\n",
    "dois = 2\n",
    "\n",
    "soma = quatro + dois\n",
    "print('O resultado é',soma)  # Resultado: 6\n",
    "\n",
    "subtracao = quatro - dois\n",
    "print('O resultado é',subtracao)  # Resultado: 2\n",
    "\n",
    "multiplicacao = quatro * dois\n",
    "print('O resultado é',multiplicacao)  # Resultado: 8\n",
    "\n",
    "divisao = quatro / dois\n",
    "print('O resultado é', divisao)  # Resultado: 2.0\n",
    "\n",
    "divisao_interna = quatro // dois\n",
    "print('O resultado é',divisao_interna)  # Resultado: 2\n",
    "\n",
    "modulo = quatro % dois\n",
    "print('O resultado é',modulo)  # Resultado: 0\n",
    "\n",
    "exponenciacao = quatro ** dois\n",
    "print('O resultado é',exponenciacao)  # Resultado: 16"
   ]
  },
  {
   "cell_type": "code",
   "execution_count": 22,
   "metadata": {},
   "outputs": [
    {
     "name": "stdout",
     "output_type": "stream",
     "text": [
      "555555\n"
     ]
    }
   ],
   "source": [
    "print('5'* 6)"
   ]
  }
 ],
 "metadata": {
  "kernelspec": {
   "display_name": "Python 3",
   "language": "python",
   "name": "python3"
  },
  "language_info": {
   "codemirror_mode": {
    "name": "ipython",
    "version": 3
   },
   "file_extension": ".py",
   "mimetype": "text/x-python",
   "name": "python",
   "nbconvert_exporter": "python",
   "pygments_lexer": "ipython3",
   "version": "3.10.12"
  },
  "orig_nbformat": 4
 },
 "nbformat": 4,
 "nbformat_minor": 2
}
