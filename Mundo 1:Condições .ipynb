{
 "cells": [
  {
   "cell_type": "markdown",
   "metadata": {},
   "source": [
    "Condições"
   ]
  },
  {
   "cell_type": "code",
   "execution_count": 2,
   "metadata": {},
   "outputs": [
    {
     "name": "stdout",
     "output_type": "stream",
     "text": [
      "carro Velho\n",
      "**FIM**\n"
     ]
    }
   ],
   "source": [
    "tempo = int(input(\"Quantos anos tem o seu carro?\"))\n",
    "if tempo <=3:\n",
    "    print('Carro Novo')\n",
    "else:\n",
    "    print('carro Velho')\n",
    "print('**FIM**')"
   ]
  },
  {
   "cell_type": "code",
   "execution_count": 6,
   "metadata": {},
   "outputs": [
    {
     "name": "stdout",
     "output_type": "stream",
     "text": [
      "Outra forma de escrever\n",
      "carro Velho\n",
      "**FIM**\n"
     ]
    }
   ],
   "source": [
    "print('Outra forma de escrever')\n",
    "tempo = int(input(\"Quantos anos tem o seu carro?\"))\n",
    "print('Carro Novo'if tempo <=3 else'carro Velho')\n",
    "print('**FIM**')"
   ]
  },
  {
   "cell_type": "code",
   "execution_count": 10,
   "metadata": {},
   "outputs": [
    {
     "name": "stdout",
     "output_type": "stream",
     "text": [
      "Olá Jorge, boa dia !!\n",
      "****FIM****\n"
     ]
    }
   ],
   "source": [
    "nome = str(input('Qual é o seu nome?'))\n",
    "if nome == 'Jorge':\n",
    "    print('Olá Jorge, boa dia !!')\n",
    "else:\n",
    "    print('Olá bom dia')\n",
    "print('****FIM****')"
   ]
  },
  {
   "cell_type": "code",
   "execution_count": 20,
   "metadata": {},
   "outputs": [
    {
     "name": "stdout",
     "output_type": "stream",
     "text": [
      "A sua média foi de 3.0.\n",
      "Reprovado , mas não desanime, Estude Mais!!\n"
     ]
    }
   ],
   "source": [
    "nota1 = float(input('Digite a sua nota: '))\n",
    "nota2 = float(input('Digite a sua nota: '))\n",
    "media = (nota1+nota1)/2\n",
    "print('A sua média foi de {}.'.format(media))\n",
    "print('Aprovado!!' if media >=7 else 'Reprovado , mas não desanime, Estude Mais!!')\n"
   ]
  }
 ],
 "metadata": {
  "kernelspec": {
   "display_name": "Python 3",
   "language": "python",
   "name": "python3"
  },
  "language_info": {
   "codemirror_mode": {
    "name": "ipython",
    "version": 3
   },
   "file_extension": ".py",
   "mimetype": "text/x-python",
   "name": "python",
   "nbconvert_exporter": "python",
   "pygments_lexer": "ipython3",
   "version": "3.10.12"
  },
  "orig_nbformat": 4
 },
 "nbformat": 4,
 "nbformat_minor": 2
}
