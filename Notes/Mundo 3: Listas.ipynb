{
 "cells": [
  {
   "cell_type": "markdown",
   "metadata": {},
   "source": [
    "### Listas [] conchetes"
   ]
  },
  {
   "cell_type": "code",
   "execution_count": 1,
   "metadata": {},
   "outputs": [
    {
     "name": "stdout",
     "output_type": "stream",
     "text": [
      "['Hamburgue', 'Suco', 'Pizza', 'Pudim']\n",
      "<class 'list'>\n"
     ]
    }
   ],
   "source": [
    "lanches = ['Hamburgue', 'Suco' , 'Pizza', 'Pudim']\n",
    "print(lanches)\n",
    "print(type(lanches))"
   ]
  },
  {
   "cell_type": "code",
   "execution_count": 2,
   "metadata": {},
   "outputs": [
    {
     "name": "stdout",
     "output_type": "stream",
     "text": [
      "Lista podem ser modificadas já as Tuplas não\n",
      "Inserindo o cookie na lista com método APPEND\n",
      "['Hamburgue', 'Suco', 'Pizza', 'Pudim', 'Cookie']\n",
      "Observe que COOKIE foi inserido última posição da LISTA\n",
      "Podemos também colocar um e elmento em outra posição com o método INSERT\n",
      "Temos na posição 0 o HOTDOG['Hotdog', 'Hamburgue', 'Suco', 'Pizza', 'Pudim', 'Cookie']\n",
      "==========================================================================================\n"
     ]
    }
   ],
   "source": [
    "print(f'Lista podem ser modificadas já as Tuplas não')\n",
    "print(f'Inserindo o cookie na lista com método APPEND')\n",
    "lanches.append('Cookie')\n",
    "print(lanches)\n",
    "print('Observe que COOKIE foi inserido última posição da LISTA')\n",
    "print('Podemos também colocar um e elmento em outra posição com o método INSERT')\n",
    "lanches.insert(0,'Hotdog')\n",
    "print(f'Temos na posição 0 o HOTDOG{lanches}')\n",
    "print('='*90)"
   ]
  },
  {
   "cell_type": "code",
   "execution_count": 3,
   "metadata": {},
   "outputs": [
    {
     "name": "stdout",
     "output_type": "stream",
     "text": [
      "Apagando elemento PIZZA posição 3 da lista com o método POP\n",
      "['Hotdog', 'Hamburgue', 'Suco', 'Pudim', 'Cookie']\n",
      "Apagando elemento SUCO da lista com o método DEL\n",
      "Apagando elemento HOTDOG da lista com o REMOVE\n"
     ]
    },
    {
     "data": {
      "text/plain": [
       "['Hamburgue', 'Pudim', 'Cookie']"
      ]
     },
     "execution_count": 3,
     "metadata": {},
     "output_type": "execute_result"
    }
   ],
   "source": [
    "print(f'Apagando elemento PIZZA posição 3 da lista com o método POP')\n",
    "lanches.pop(3)\n",
    "print(lanches)\n",
    "print(f'Apagando elemento SUCO da lista com o método DEL')\n",
    "del(lanches[2])\n",
    "lanches\n",
    "print(f'Apagando elemento HOTDOG da lista com o REMOVE')\n",
    "lanches.remove('Hotdog')\n",
    "lanches"
   ]
  },
  {
   "cell_type": "code",
   "execution_count": 4,
   "metadata": {},
   "outputs": [
    {
     "name": "stdout",
     "output_type": "stream",
     "text": [
      "Criando uma lista  com método LIST e range\n",
      "[4, 5, 6, 7, 8, 9, 10]\n"
     ]
    }
   ],
   "source": [
    "print(f'Criando uma lista  com método LIST e range')\n",
    "valores = list(range(4,11))\n",
    "print(valores)"
   ]
  },
  {
   "cell_type": "code",
   "execution_count": 5,
   "metadata": {},
   "outputs": [
    {
     "name": "stdout",
     "output_type": "stream",
     "text": [
      "Lista são mutaveis observe o exemplo abaixo onde colocamos um elemento novo na posição 2\n",
      "[2, 5, 9, 1]\n",
      "[2, 5, 3, 1]\n",
      "Agora vamos adcionar o número 9 porém manteremos o 3 e colocaremos na ordem\n",
      "Usando o APPEND para adionar o 9 None\n",
      "Agora a lista está em ordem [1, 2, 3, 5, 9]\n",
      "Agora a lista está  ordem reversa\n",
      "[9, 5, 3, 2, 1]\n",
      "A lista tem 5 elementos \n",
      "Adicionando um elementos na posição 2\n",
      "[2, 5, 0, 3, 1, 9]\n",
      "Eliminando o último elemento com o POP\n",
      "[2, 5, 0, 3, 1]\n",
      "Eliminando o elemento 0 com o POP(0)\n",
      "[2, 5, 3, 1]\n"
     ]
    }
   ],
   "source": [
    "print('Lista são mutaveis observe o exemplo abaixo onde colocamos um elemento novo na posição 2')\n",
    "num = [2,5,9,1]\n",
    "print(num)\n",
    "num[2] = 3\n",
    "print(num)\n",
    "print('Agora vamos adcionar o número 9 porém manteremos o 3 e colocaremos na ordem')\n",
    "print(f'Usando o APPEND para adionar o 9 {num.append(9)}')\n",
    "print(f'Agora a lista está em ordem {sorted(num)}')\n",
    "print(f'Agora a lista está  ordem reversa')\n",
    "print(sorted(num,reverse=True))\n",
    "print(f'A lista tem {len(num)} elementos ')\n",
    "print('Adicionando um elementos na posição 2')\n",
    "num.insert(2,0)\n",
    "print(num)\n",
    "print('Eliminando o último elemento com o POP')\n",
    "num.pop()\n",
    "print(num)\n",
    "print('Eliminando o elemento 0 com o POP(0)')\n",
    "num.pop(2)\n",
    "print(num)"
   ]
  },
  {
   "cell_type": "code",
   "execution_count": 6,
   "metadata": {},
   "outputs": [
    {
     "name": "stdout",
     "output_type": "stream",
     "text": [
      "Número:5\n",
      "Número:9\n",
      "Número:4\n",
      "Na posição 0, eu tenho o número 5\n",
      "Na posição 1, eu tenho o número 9\n",
      "Na posição 2, eu tenho o número 4\n"
     ]
    }
   ],
   "source": [
    "valores = []\n",
    "valores.append(5)\n",
    "valores.append(9)\n",
    "valores.append(4)\n",
    "\n",
    "for valor in valores:\n",
    "    print(f'Número:{valor}')\n",
    "\n",
    "for indice,number in enumerate(valores):\n",
    "    print(f'Na posição {indice}, eu tenho o número {number}')"
   ]
  },
  {
   "cell_type": "code",
   "execution_count": 7,
   "metadata": {},
   "outputs": [
    {
     "name": "stdout",
     "output_type": "stream",
     "text": [
      "Lista B recebe uma copia dos elementos da lista A\n",
      "Lista A:[2, 3, 4, 7]\n",
      "Lista B:[2, 3, 8, 7]\n"
     ]
    }
   ],
   "source": [
    "a = [2,3,4,7]\n",
    "b = a[:]\n",
    "b[2]=8\n",
    "print('Lista B recebe uma copia dos elementos da lista A')\n",
    "print(f'Lista A:{a}')\n",
    "print(f'Lista B:{b}')"
   ]
  },
  {
   "cell_type": "code",
   "execution_count": 24,
   "metadata": {},
   "outputs": [
    {
     "name": "stdout",
     "output_type": "stream",
     "text": [
      "[['Gustavo', 40], ['Maria', 22]]\n"
     ]
    }
   ],
   "source": [
    "teste = list()\n",
    "teste.append('Gustavo')\n",
    "teste.append(40)\n",
    "galera = list()\n",
    "galera.append(teste[:])\n",
    "teste[0] = 'Maria'\n",
    "teste[1] = 22\n",
    "galera.append(teste[:])\n",
    "print(galera)\n"
   ]
  },
  {
   "cell_type": "code",
   "execution_count": 1,
   "metadata": {},
   "outputs": [
    {
     "name": "stdout",
     "output_type": "stream",
     "text": [
      "--------------------------------------------------\n",
      "[['João', 19], ['Ana', 33], ['Joaquim', 13], ['Maria', 45]]\n",
      "João,tem 19 anos\n",
      "Ana,tem 33 anos\n",
      "Joaquim,tem 13 anos\n",
      "Maria,tem 45 anos\n"
     ]
    }
   ],
   "source": [
    "galera=[['João',19],['Ana',33],['Joaquim',13],['Maria',45]]\n",
    "print('--------------------------------------------------')\n",
    "print(galera)\n",
    "for p in galera:\n",
    "    print(f'{p[0]},tem {p[1]} anos')"
   ]
  },
  {
   "cell_type": "code",
   "execution_count": 2,
   "metadata": {},
   "outputs": [
    {
     "name": "stdout",
     "output_type": "stream",
     "text": [
      "João é menor  de idade\n",
      "Ana é maior de idade.\n",
      "Joaquim é menor  de idade\n",
      "Maria é maior de idade.\n",
      "Temos 2 maiores e 2 menores de idade\n"
     ]
    }
   ],
   "source": [
    "totmai = totmen = 0\n",
    "for p in galera:\n",
    "    if p[1]>=21:\n",
    "        print(f'{p[0]} é maior de idade.')\n",
    "        totmai +=1\n",
    "    else:\n",
    "        print(f'{p[0]} é menor  de idade')\n",
    "        totmen +=1\n",
    "print(f'Temos {totmai} maiores e {totmen} menores de idade')\n"
   ]
  },
  {
   "cell_type": "code",
   "execution_count": 16,
   "metadata": {},
   "outputs": [
    {
     "name": "stdout",
     "output_type": "stream",
     "text": [
      "A) Temos 6 cadastradas\n"
     ]
    }
   ],
   "source": [
    "\n",
    "\n",
    "totpessoas=(int(len(pessoas)))\n",
    "\n",
    "media = sum(totpeso)/totpessoas\n",
    "\n",
    "print(f'A) Temos',totpessoas,'cadastradas')\n",
    "    \n"
   ]
  }
 ],
 "metadata": {
  "kernelspec": {
   "display_name": "Python 3",
   "language": "python",
   "name": "python3"
  },
  "language_info": {
   "codemirror_mode": {
    "name": "ipython",
    "version": 3
   },
   "file_extension": ".py",
   "mimetype": "text/x-python",
   "name": "python",
   "nbconvert_exporter": "python",
   "pygments_lexer": "ipython3",
   "version": "3.10.12"
  }
 },
 "nbformat": 4,
 "nbformat_minor": 2
}
