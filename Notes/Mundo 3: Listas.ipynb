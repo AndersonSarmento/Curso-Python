{
 "cells": [
  {
   "cell_type": "markdown",
   "metadata": {},
   "source": [
    "### Listas [] conchetes"
   ]
  },
  {
   "cell_type": "code",
   "execution_count": 5,
   "metadata": {},
   "outputs": [
    {
     "name": "stdout",
     "output_type": "stream",
     "text": [
      "['Hamburgue', 'Suco', 'Pizza', 'Pudim']\n",
      "<class 'list'>\n",
      "Lista podem ser modificadas já as Tuplas não \n"
     ]
    }
   ],
   "source": [
    "lanches = ['Hamburgue', 'Suco' , 'Pizza', 'Pudim']\n",
    "print(lanches)\n",
    "print(type(lanches))\n",
    "print(f'Lista podem ser modificadas já as Tuplas não ')"
   ]
  }
 ],
 "metadata": {
  "kernelspec": {
   "display_name": "Python 3",
   "language": "python",
   "name": "python3"
  },
  "language_info": {
   "codemirror_mode": {
    "name": "ipython",
    "version": 3
   },
   "file_extension": ".py",
   "mimetype": "text/x-python",
   "name": "python",
   "nbconvert_exporter": "python",
   "pygments_lexer": "ipython3",
   "version": "3.10.12"
  }
 },
 "nbformat": 4,
 "nbformat_minor": 2
}
