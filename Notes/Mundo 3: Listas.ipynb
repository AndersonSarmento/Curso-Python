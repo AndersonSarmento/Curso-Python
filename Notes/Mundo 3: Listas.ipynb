{
 "cells": [
  {
   "cell_type": "markdown",
   "metadata": {},
   "source": [
    "### Listas [] conchetes"
   ]
  },
  {
   "cell_type": "code",
   "execution_count": 117,
   "metadata": {},
   "outputs": [
    {
     "name": "stdout",
     "output_type": "stream",
     "text": [
      "['Hamburgue', 'Suco', 'Pizza', 'Pudim']\n",
      "<class 'list'>\n"
     ]
    }
   ],
   "source": [
    "lanches = ['Hamburgue', 'Suco' , 'Pizza', 'Pudim']\n",
    "print(lanches)\n",
    "print(type(lanches))"
   ]
  },
  {
   "cell_type": "code",
   "execution_count": 118,
   "metadata": {},
   "outputs": [
    {
     "name": "stdout",
     "output_type": "stream",
     "text": [
      "Lista podem ser modificadas já as Tuplas não\n",
      "Inserindo o cookie na lista com método APPEND\n",
      "['Hamburgue', 'Suco', 'Pizza', 'Pudim', 'Cookie']\n",
      "Observe que COOKIE foi inserido última posição da LISTA\n",
      "Podemos também colocar um e elmento em outra posição com o método INSERT\n",
      "Temos na posição 0 o HOTDOG['Hotdog', 'Hamburgue', 'Suco', 'Pizza', 'Pudim', 'Cookie']\n",
      "==========================================================================================\n"
     ]
    }
   ],
   "source": [
    "print(f'Lista podem ser modificadas já as Tuplas não')\n",
    "print(f'Inserindo o cookie na lista com método APPEND')\n",
    "lanches.append('Cookie')\n",
    "print(lanches)\n",
    "print('Observe que COOKIE foi inserido última posição da LISTA')\n",
    "print('Podemos também colocar um e elmento em outra posição com o método INSERT')\n",
    "lanches.insert(0,'Hotdog')\n",
    "print(f'Temos na posição 0 o HOTDOG{lanches}')\n",
    "print('='*90)"
   ]
  },
  {
   "cell_type": "code",
   "execution_count": 119,
   "metadata": {},
   "outputs": [
    {
     "name": "stdout",
     "output_type": "stream",
     "text": [
      "Apagando elemento PIZZA posição 3 da lista com o método POP\n",
      "['Hotdog', 'Hamburgue', 'Suco', 'Pudim', 'Cookie']\n",
      "Apagando elemento SUCO da lista com o método DEL\n",
      "Apagando elemento HOTDOG da lista com o REMOVE\n"
     ]
    },
    {
     "data": {
      "text/plain": [
       "['Hamburgue', 'Pudim', 'Cookie']"
      ]
     },
     "execution_count": 119,
     "metadata": {},
     "output_type": "execute_result"
    }
   ],
   "source": [
    "print(f'Apagando elemento PIZZA posição 3 da lista com o método POP')\n",
    "lanches.pop(3)\n",
    "print(lanches)\n",
    "print(f'Apagando elemento SUCO da lista com o método DEL')\n",
    "del(lanches[2])\n",
    "lanches\n",
    "print(f'Apagando elemento HOTDOG da lista com o REMOVE')\n",
    "lanches.remove('Hotdog')\n",
    "lanches"
   ]
  }
 ],
 "metadata": {
  "kernelspec": {
   "display_name": "Python 3",
   "language": "python",
   "name": "python3"
  },
  "language_info": {
   "codemirror_mode": {
    "name": "ipython",
    "version": 3
   },
   "file_extension": ".py",
   "mimetype": "text/x-python",
   "name": "python",
   "nbconvert_exporter": "python",
   "pygments_lexer": "ipython3",
   "version": "3.10.12"
  }
 },
 "nbformat": 4,
 "nbformat_minor": 2
}
