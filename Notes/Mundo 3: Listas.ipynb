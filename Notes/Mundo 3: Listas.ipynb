{
 "cells": [
  {
   "cell_type": "markdown",
   "metadata": {},
   "source": [
    "### Listas [] conchetes"
   ]
  },
  {
   "cell_type": "code",
   "execution_count": 63,
   "metadata": {},
   "outputs": [
    {
     "name": "stdout",
     "output_type": "stream",
     "text": [
      "['Hamburgue', 'Suco', 'Pizza', 'Pudim']\n",
      "<class 'list'>\n"
     ]
    }
   ],
   "source": [
    "lanches = ['Hamburgue', 'Suco' , 'Pizza', 'Pudim']\n",
    "print(lanches)\n",
    "print(type(lanches))"
   ]
  },
  {
   "cell_type": "code",
   "execution_count": 64,
   "metadata": {},
   "outputs": [
    {
     "name": "stdout",
     "output_type": "stream",
     "text": [
      "Lista podem ser modificadas já as Tuplas não\n",
      "Inserindo o cookie na lista com método APPEND\n",
      "['Hamburgue', 'Suco', 'Pizza', 'Pudim', 'Cookie']\n",
      "Observe que COOKIE foi inserido última posição da LISTA\n",
      "Podemos também colocar um e elmento em outra posição com o método INSERT\n",
      "Temos na posição 0 o HOTDOG['Hotdog', 'Hamburgue', 'Suco', 'Pizza', 'Pudim', 'Cookie']\n",
      "==========================================================================================\n"
     ]
    }
   ],
   "source": [
    "print(f'Lista podem ser modificadas já as Tuplas não')\n",
    "print(f'Inserindo o cookie na lista com método APPEND')\n",
    "lanches.append('Cookie')\n",
    "print(lanches)\n",
    "print('Observe que COOKIE foi inserido última posição da LISTA')\n",
    "print('Podemos também colocar um e elmento em outra posição com o método INSERT')\n",
    "lanches.insert(0,'Hotdog')\n",
    "print(f'Temos na posição 0 o HOTDOG{lanches}')\n",
    "print('='*90)"
   ]
  },
  {
   "cell_type": "code",
   "execution_count": 65,
   "metadata": {},
   "outputs": [
    {
     "name": "stdout",
     "output_type": "stream",
     "text": [
      "Apagando elemento PIZZA posição 3 da lista com o método POP\n",
      "['Hotdog', 'Hamburgue', 'Suco', 'Pudim', 'Cookie']\n",
      "Apagando elemento SUCO da lista com o método DEL\n",
      "Apagando elemento HOTDOG da lista com o REMOVE\n"
     ]
    },
    {
     "data": {
      "text/plain": [
       "['Hamburgue', 'Pudim', 'Cookie']"
      ]
     },
     "execution_count": 65,
     "metadata": {},
     "output_type": "execute_result"
    }
   ],
   "source": [
    "print(f'Apagando elemento PIZZA posição 3 da lista com o método POP')\n",
    "lanches.pop(3)\n",
    "print(lanches)\n",
    "print(f'Apagando elemento SUCO da lista com o método DEL')\n",
    "del(lanches[2])\n",
    "lanches\n",
    "print(f'Apagando elemento HOTDOG da lista com o REMOVE')\n",
    "lanches.remove('Hotdog')\n",
    "lanches"
   ]
  },
  {
   "cell_type": "code",
   "execution_count": 66,
   "metadata": {},
   "outputs": [
    {
     "name": "stdout",
     "output_type": "stream",
     "text": [
      "Criando uma lista  com método LIST e range\n",
      "[4, 5, 6, 7, 8, 9, 10]\n"
     ]
    }
   ],
   "source": [
    "print(f'Criando uma lista  com método LIST e range')\n",
    "valores = list(range(4,11))\n",
    "print(valores)"
   ]
  },
  {
   "cell_type": "code",
   "execution_count": 70,
   "metadata": {},
   "outputs": [
    {
     "name": "stdout",
     "output_type": "stream",
     "text": [
      "Lista são mutaveis observe o exemplo abaixo onde colocamos um elemento novo na posição 2\n",
      "[2, 5, 9, 1]\n",
      "[2, 5, 3, 1]\n",
      "Agora vamos adcionar o número 9 porém manteremos o 3 e colocaremos na ordem\n",
      "Usando o APPEND para adionar o 9 None\n",
      "Agora a lista está em ordem [1, 2, 3, 5, 9]\n",
      "Agora a lista está  ordem reversa\n",
      "[9, 5, 3, 2, 1]\n",
      "A lista tem 5 elementos \n",
      "Adicionando um elementos na posição 2\n",
      "[2, 5, 0, 3, 1, 9]\n",
      "Eliminando o último elemento com o POP\n",
      "[2, 5, 0, 3, 1]\n",
      "Eliminando o elemento 0 com o POP(0)\n",
      "[2, 5, 3, 1]\n"
     ]
    }
   ],
   "source": [
    "print('Lista são mutaveis observe o exemplo abaixo onde colocamos um elemento novo na posição 2')\n",
    "num = [2,5,9,1]\n",
    "print(num)\n",
    "num[2] = 3\n",
    "print(num)\n",
    "print('Agora vamos adcionar o número 9 porém manteremos o 3 e colocaremos na ordem')\n",
    "print(f'Usando o APPEND para adionar o 9 {num.append(9)}')\n",
    "print(f'Agora a lista está em ordem {sorted(num)}')\n",
    "print(f'Agora a lista está  ordem reversa')\n",
    "print(sorted(num,reverse=True))\n",
    "print(f'A lista tem {len(num)} elementos ')\n",
    "print('Adicionando um elementos na posição 2')\n",
    "num.insert(2,0)\n",
    "print(num)\n",
    "print('Eliminando o último elemento com o POP')\n",
    "num.pop()\n",
    "print(num)\n",
    "print('Eliminando o elemento 0 com o POP(0)')\n",
    "num.pop(2)\n",
    "print(num)"
   ]
  }
 ],
 "metadata": {
  "kernelspec": {
   "display_name": "Python 3",
   "language": "python",
   "name": "python3"
  },
  "language_info": {
   "codemirror_mode": {
    "name": "ipython",
    "version": 3
   },
   "file_extension": ".py",
   "mimetype": "text/x-python",
   "name": "python",
   "nbconvert_exporter": "python",
   "pygments_lexer": "ipython3",
   "version": "3.10.12"
  }
 },
 "nbformat": 4,
 "nbformat_minor": 2
}
