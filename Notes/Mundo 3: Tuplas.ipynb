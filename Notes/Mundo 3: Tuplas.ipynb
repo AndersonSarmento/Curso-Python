{
 "cells": [
  {
   "cell_type": "markdown",
   "metadata": {},
   "source": [
    "Nessa aula, vamos aprender o que são TUPLAS e como utilizar tuplas em Python. As tuplas são variáveis compostas e imutáveis que permitem armazenar vários valores em uma mesma estrutura, acessíveis por chaves individuais.\n"
   ]
  },
  {
   "cell_type": "markdown",
   "metadata": {},
   "source": [
    "### Símbolos das estrutura de variaveis compostas "
   ]
  },
  {
   "cell_type": "code",
   "execution_count": 81,
   "metadata": {},
   "outputs": [],
   "source": [
    "#parentes \n",
    "tupla = ()\n",
    "#colchetes\n",
    "lista = []\n",
    "#chaves \n",
    "dicionario = {}"
   ]
  },
  {
   "cell_type": "code",
   "execution_count": 1,
   "metadata": {},
   "outputs": [
    {
     "name": "stdout",
     "output_type": "stream",
     "text": [
      "('Hamburgue', 'Suco', 'Pizza', 'Pudim')\n",
      "<class 'tuple'>\n",
      "Tuplas NÃO podem ser modificadas já as listas sim \n"
     ]
    }
   ],
   "source": [
    "lanches = ('Hamburgue', 'Suco' , 'Pizza', 'Pudim')\n",
    "print(lanches)\n",
    "print(type(lanches))\n",
    "print(f'Tuplas NÃO podem ser modificadas já as listas sim ')\n"
   ]
  },
  {
   "cell_type": "markdown",
   "metadata": {},
   "source": [
    "#### Fatiamento"
   ]
  },
  {
   "cell_type": "code",
   "execution_count": 83,
   "metadata": {},
   "outputs": [
    {
     "name": "stdout",
     "output_type": "stream",
     "text": [
      "Qual é o lanche de número 1 da tupla?\n",
      "É o Suco\n",
      "Qual a posição do Pudim?\n",
      "A posição -1 igual Pudim\n",
      "Exiba todos os lanches da tupla\n",
      "('Hamburgue', 'Suco', 'Pizza', 'Pudim')\n",
      "Exiba o primeiro e o último , lanche na ordem inversa\n",
      "Pudim e Hamburgue\n",
      "Mostre todos os lanches  começando na Pizza e até o fim\n",
      "('Pizza', 'Pudim')\n",
      "Mostre os lanches do Pudim e indo até Suco\n",
      "('Suco', 'Pizza', 'Pudim')\n"
     ]
    }
   ],
   "source": [
    "print(f'Qual é o lanche de número 1 da tupla?')\n",
    "print(f'É o {lanches[1]}')\n",
    "print(f'Qual a posição do Pudim?')\n",
    "print(f'A posição -1 igual {lanches[-1]}')\n",
    "print(f'Exiba todos os lanches da tupla')\n",
    "print(lanches[0:])\n",
    "print(f'Exiba o primeiro e o último , lanche na ordem inversa')\n",
    "print(lanches[-1],'e',lanches[-4])\n",
    "print(f'Mostre todos os lanches  começando na Pizza e até o fim')\n",
    "print(lanches[2:])\n",
    "print(f'Mostre os lanches do Pudim e indo até Suco')\n",
    "print(lanches[1:4])"
   ]
  },
  {
   "cell_type": "markdown",
   "metadata": {},
   "source": [
    "Observe que existem duas forma de ter o mesmo resultado com FOR "
   ]
  },
  {
   "cell_type": "code",
   "execution_count": 3,
   "metadata": {},
   "outputs": [
    {
     "name": "stdout",
     "output_type": "stream",
     "text": [
      "Colocando os lanches na oderm alfabetica. com metodo sorted \n",
      "Ordenado:['Batata Frita', 'Hamburgue', 'Pizza', 'Pudim', 'Suco']\n",
      "Ordem original ('Hamburgue', 'Suco', 'Pizza', 'Batata Frita', 'Pudim')\n",
      "Observe que metodo sorted cria uma lista () ordenada \n"
     ]
    }
   ],
   "source": [
    "lanches = ('Hamburgue', 'Suco' , 'Pizza', 'Batata Frita', 'Pudim')\n",
    "print(f'Colocando os lanches na oderm alfabetica. com metodo sorted \\nOrdenado:{sorted(lanches)}')\n",
    "print(f'Ordem original {lanches}')\n",
    "print('Observe que metodo sorted cria uma lista () ordenada ' )"
   ]
  },
  {
   "cell_type": "code",
   "execution_count": 4,
   "metadata": {},
   "outputs": [
    {
     "name": "stdout",
     "output_type": "stream",
     "text": [
      "Eu vou comer Hamburgue!\n",
      "Eu vou comer Suco!\n",
      "Eu vou comer Pizza!\n",
      "Eu vou comer Batata Frita!\n",
      "Eu vou comer Pudim!\n",
      "Comi muito, né !\n"
     ]
    }
   ],
   "source": [
    "for comida in lanches:\n",
    "    print(f'Eu vou comer {comida}!')\n",
    "print('Comi muito, né !')"
   ]
  },
  {
   "cell_type": "code",
   "execution_count": 5,
   "metadata": {},
   "outputs": [
    {
     "name": "stdout",
     "output_type": "stream",
     "text": [
      "Eu vou comer Hamburgue!\n",
      "Eu vou comer Suco!\n",
      "Eu vou comer Pizza!\n",
      "Eu vou comer Batata Frita!\n",
      "Eu vou comer Pudim!\n",
      "Comi muito, né !\n"
     ]
    }
   ],
   "source": [
    "for cont in range(0,len(lanches)):\n",
    "    print(f'Eu vou comer {lanches[cont]}!')\n",
    "print('Comi muito, né !')"
   ]
  },
  {
   "cell_type": "code",
   "execution_count": 87,
   "metadata": {},
   "outputs": [
    {
     "name": "stdout",
     "output_type": "stream",
     "text": [
      "Eu vou comer Hamburgue na posição 0\n",
      "Eu vou comer Suco na posição 1\n",
      "Eu vou comer Pizza na posição 2\n",
      "Eu vou comer Batata Frita na posição 3\n",
      "Eu vou comer Pudim na posição 4\n",
      "Comi muito, né !\n"
     ]
    }
   ],
   "source": [
    "for cont in range(0,len(lanches)):\n",
    "    print(f'Eu vou comer {lanches[cont]} na posição {cont}')\n",
    "print('Comi muito, né !')\n"
   ]
  },
  {
   "cell_type": "code",
   "execution_count": 88,
   "metadata": {},
   "outputs": [
    {
     "name": "stdout",
     "output_type": "stream",
     "text": [
      "Eu vou comer Hamburgue na posição 0\n",
      "Eu vou comer Suco na posição 1\n",
      "Eu vou comer Pizza na posição 2\n",
      "Eu vou comer Batata Frita na posição 3\n",
      "Eu vou comer Pudim na posição 4\n",
      "Comi muito, né !\n"
     ]
    }
   ],
   "source": [
    "for pos,comida in enumerate (lanches):\n",
    "    print(f'Eu vou comer {comida} na posição {pos}')\n",
    "print('Comi muito, né !')"
   ]
  },
  {
   "cell_type": "code",
   "execution_count": 119,
   "metadata": {},
   "outputs": [
    {
     "name": "stdout",
     "output_type": "stream",
     "text": [
      "Aqui um exemplo de se juntar duas duplas\n",
      "Tupla A=(2, 5, 4)\n",
      "Tupla B=(0, 8, 1, 2)\n",
      "Tupla C=A+B(2, 5, 4, 0, 8, 1, 2)\n",
      "Tupla D=B+A(0, 8, 1, 2, 2, 5, 4)\n",
      "Com o metodo INDEX eu posso descobrir qual posição do número na tupla \n",
      "Por exemplo o OITO da Tupla C está na posicão 4\n",
      "Posição 4 na Tupla C:8\n"
     ]
    }
   ],
   "source": [
    "print('Aqui um exemplo de se juntar duas duplas') \n",
    "a = (2,5,4)\n",
    "b = (0,8,1,2)\n",
    "c= a+b\n",
    "d =b+a \n",
    "print(f'Tupla A={a}')\n",
    "print(f'Tupla B={b}')\n",
    "print(f'Tupla C=A+B{c}')\n",
    "print(f'Tupla D=B+A{d}')\n",
    "print(f'Com o metodo INDEX eu posso descobrir qual posição do número na tupla \\nPor exemplo o OITO da Tupla C está na posicão {c.index(8)}')\n",
    "print(f'Posição 4 na Tupla C:{c[4]}')"
   ]
  },
  {
   "cell_type": "code",
   "execution_count": 121,
   "metadata": {},
   "outputs": [
    {
     "ename": "NameError",
     "evalue": "name 'c' is not defined",
     "output_type": "error",
     "traceback": [
      "\u001b[0;31m---------------------------------------------------------------------------\u001b[0m",
      "\u001b[0;31mNameError\u001b[0m                                 Traceback (most recent call last)",
      "Cell \u001b[0;32mIn[121], line 2\u001b[0m\n\u001b[1;32m      1\u001b[0m \u001b[38;5;66;03m#apagando a tupla\u001b[39;00m\n\u001b[0;32m----> 2\u001b[0m \u001b[38;5;28;01mdel\u001b[39;00m(c)\n\u001b[1;32m      3\u001b[0m \u001b[38;5;28mprint\u001b[39m(c)\n",
      "\u001b[0;31mNameError\u001b[0m: name 'c' is not defined"
     ]
    }
   ],
   "source": [
    "#apagando a tupla\n",
    "del(c)\n",
    "print(c)"
   ]
  }
 ],
 "metadata": {
  "kernelspec": {
   "display_name": "Python 3",
   "language": "python",
   "name": "python3"
  },
  "language_info": {
   "codemirror_mode": {
    "name": "ipython",
    "version": 3
   },
   "file_extension": ".py",
   "mimetype": "text/x-python",
   "name": "python",
   "nbconvert_exporter": "python",
   "pygments_lexer": "ipython3",
   "version": "3.10.12"
  }
 },
 "nbformat": 4,
 "nbformat_minor": 2
}
