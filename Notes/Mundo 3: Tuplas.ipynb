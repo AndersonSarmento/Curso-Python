{
 "cells": [
  {
   "cell_type": "markdown",
   "metadata": {},
   "source": [
    "Nessa aula, vamos aprender o que são TUPLAS e como utilizar tuplas em Python. As tuplas são variáveis compostas e imutáveis que permitem armazenar vários valores em uma mesma estrutura, acessíveis por chaves individuais.\n"
   ]
  },
  {
   "cell_type": "markdown",
   "metadata": {},
   "source": [
    "### Símbolos das estrutura de variaveis compostas "
   ]
  },
  {
   "cell_type": "code",
   "execution_count": 222,
   "metadata": {},
   "outputs": [],
   "source": [
    "#parentes \n",
    "tupla = ()\n",
    "#colchetes\n",
    "lista = []\n",
    "#chaves \n",
    "dicionario = {}"
   ]
  },
  {
   "cell_type": "code",
   "execution_count": 223,
   "metadata": {},
   "outputs": [
    {
     "name": "stdout",
     "output_type": "stream",
     "text": [
      "('Hamburgue', 'Suco', 'Pizza', 'Pudim')\n",
      "<class 'tuple'>\n",
      "Tuplas NÃO podem ser modificadas já as listas sim \n"
     ]
    }
   ],
   "source": [
    "lanches = ('Hamburgue', 'Suco' , 'Pizza', 'Pudim')\n",
    "print(lanches)\n",
    "print(type(lanches))\n",
    "print(f'Tuplas NÃO podem ser modificadas já as listas sim ')\n"
   ]
  },
  {
   "cell_type": "markdown",
   "metadata": {},
   "source": [
    "#### Fatiamento"
   ]
  },
  {
   "cell_type": "code",
   "execution_count": 224,
   "metadata": {},
   "outputs": [
    {
     "name": "stdout",
     "output_type": "stream",
     "text": [
      "Qual é o lanche de número 1 da tupla?\n",
      "É o Suco\n",
      "Qual a posição do Pudim?\n",
      "A posição -1 igual Pudim\n",
      "Exiba todos os lanches da tupla\n",
      "('Hamburgue', 'Suco', 'Pizza', 'Pudim')\n",
      "Exiba o primeiro e o último , lanche na ordem inversa\n",
      "Pudim e Hamburgue\n",
      "Mostre todos os lanches  começando na Pizza e até o fim\n",
      "('Pizza', 'Pudim')\n",
      "Mostre os lanches do Pudim e indo até Suco\n",
      "('Suco', 'Pizza', 'Pudim')\n"
     ]
    }
   ],
   "source": [
    "print(f'Qual é o lanche de número 1 da tupla?')\n",
    "print(f'É o {lanches[1]}')\n",
    "print(f'Qual a posição do Pudim?')\n",
    "print(f'A posição -1 igual {lanches[-1]}')\n",
    "print(f'Exiba todos os lanches da tupla')\n",
    "print(lanches[0:])\n",
    "print(f'Exiba o primeiro e o último , lanche na ordem inversa')\n",
    "print(lanches[-1],'e',lanches[-4])\n",
    "print(f'Mostre todos os lanches  começando na Pizza e até o fim')\n",
    "print(lanches[2:])\n",
    "print(f'Mostre os lanches do Pudim e indo até Suco')\n",
    "print(lanches[1:4])"
   ]
  },
  {
   "cell_type": "markdown",
   "metadata": {},
   "source": [
    "Observe que existem duas forma de ter o mesmo resultado com FOR "
   ]
  },
  {
   "cell_type": "code",
   "execution_count": 225,
   "metadata": {},
   "outputs": [
    {
     "name": "stdout",
     "output_type": "stream",
     "text": [
      "Colocando os lanches na oderm alfabetica. com metodo sorted \n",
      "Ordenado:['Batata Frita', 'Hamburgue', 'Pizza', 'Pudim', 'Suco']\n",
      "Ordem original ('Hamburgue', 'Suco', 'Pizza', 'Batata Frita', 'Pudim')\n",
      "Observe que metodo sorted cria uma lista () ordenada \n"
     ]
    }
   ],
   "source": [
    "lanches = ('Hamburgue', 'Suco' , 'Pizza', 'Batata Frita', 'Pudim')\n",
    "print(f'Colocando os lanches na oderm alfabetica. com metodo sorted \\nOrdenado:{sorted(lanches)}')\n",
    "print(f'Ordem original {lanches}')\n",
    "print('Observe que metodo sorted cria uma lista () ordenada ' )"
   ]
  },
  {
   "cell_type": "code",
   "execution_count": 226,
   "metadata": {},
   "outputs": [
    {
     "name": "stdout",
     "output_type": "stream",
     "text": [
      "Eu vou comer Hamburgue!\n",
      "Eu vou comer Suco!\n",
      "Eu vou comer Pizza!\n",
      "Eu vou comer Batata Frita!\n",
      "Eu vou comer Pudim!\n",
      "Comi muito, né !\n"
     ]
    }
   ],
   "source": [
    "for comida in lanches:\n",
    "    print(f'Eu vou comer {comida}!')\n",
    "print('Comi muito, né !')"
   ]
  },
  {
   "cell_type": "code",
   "execution_count": 227,
   "metadata": {},
   "outputs": [
    {
     "name": "stdout",
     "output_type": "stream",
     "text": [
      "Eu vou comer Hamburgue!\n",
      "Eu vou comer Suco!\n",
      "Eu vou comer Pizza!\n",
      "Eu vou comer Batata Frita!\n",
      "Eu vou comer Pudim!\n",
      "Comi muito, né !\n"
     ]
    }
   ],
   "source": [
    "for cont in range(0,len(lanches)):\n",
    "    print(f'Eu vou comer {lanches[cont]}!')\n",
    "print('Comi muito, né !')"
   ]
  },
  {
   "cell_type": "code",
   "execution_count": 228,
   "metadata": {},
   "outputs": [
    {
     "name": "stdout",
     "output_type": "stream",
     "text": [
      "Eu vou comer Hamburgue na posição 0\n",
      "Eu vou comer Suco na posição 1\n",
      "Eu vou comer Pizza na posição 2\n",
      "Eu vou comer Batata Frita na posição 3\n",
      "Eu vou comer Pudim na posição 4\n",
      "Comi muito, né !\n"
     ]
    }
   ],
   "source": [
    "for cont in range(0,len(lanches)):\n",
    "    print(f'Eu vou comer {lanches[cont]} na posição {cont}')\n",
    "print('Comi muito, né !')\n"
   ]
  },
  {
   "cell_type": "code",
   "execution_count": 229,
   "metadata": {},
   "outputs": [
    {
     "name": "stdout",
     "output_type": "stream",
     "text": [
      "Eu vou comer Hamburgue na posição 0\n",
      "Eu vou comer Suco na posição 1\n",
      "Eu vou comer Pizza na posição 2\n",
      "Eu vou comer Batata Frita na posição 3\n",
      "Eu vou comer Pudim na posição 4\n",
      "Comi muito, né !\n"
     ]
    }
   ],
   "source": [
    "for pos,comida in enumerate (lanches):\n",
    "    print(f'Eu vou comer {comida} na posição {pos}')\n",
    "print('Comi muito, né !')"
   ]
  },
  {
   "cell_type": "code",
   "execution_count": 230,
   "metadata": {},
   "outputs": [
    {
     "name": "stdout",
     "output_type": "stream",
     "text": [
      "Aqui um exemplo de se juntar duas duplas\n",
      "Tupla A=(2, 5, 4)\n",
      "Tupla B=(0, 8, 1, 2)\n",
      "Tupla C=A+B(2, 5, 4, 0, 8, 1, 2)\n",
      "Tupla D=B+A(0, 8, 1, 2, 2, 5, 4)\n",
      "Com o metodo INDEX eu posso descobrir qual posição do número na tupla \n",
      "Por exemplo o OITO da Tupla C está na posicão 4\n",
      "Posição 4 na Tupla C:8\n"
     ]
    }
   ],
   "source": [
    "print('Aqui um exemplo de se juntar duas duplas') \n",
    "a = (2,5,4)\n",
    "b = (0,8,1,2)\n",
    "c= a+b\n",
    "d =b+a \n",
    "print(f'Tupla A={a}')\n",
    "print(f'Tupla B={b}')\n",
    "print(f'Tupla C=A+B{c}')\n",
    "print(f'Tupla D=B+A{d}')\n",
    "print(f'Com o metodo INDEX eu posso descobrir qual posição do número na tupla \\nPor exemplo o OITO da Tupla C está na posicão {c.index(8)}')\n",
    "print(f'Posição 4 na Tupla C:{c[4]}')"
   ]
  },
  {
   "cell_type": "code",
   "execution_count": 252,
   "metadata": {},
   "outputs": [
    {
     "name": "stdout",
     "output_type": "stream",
     "text": [
      "-=-=-=-=-=-=-=-=-=-=-=-=-=-=-=-=-=-=-=-=-=-=-=-=-=-=-=-=-=-=\n",
      "[  1  ][  2  ][  3  ]\n",
      "[  4  ][  5  ][  7  ]\n",
      "[  8  ][  0  ][  6  ]\n",
      "Aqui temos a nossa matriz\n",
      "------------------------------------------------------------\n",
      "A)A soma de todos os valores pares digitados é: 20\n",
      "B) A soma dos valores da terceira coluna é: 16\n",
      "C) O maior valor da segunda linha. 7\n"
     ]
    }
   ],
   "source": [
    "matriz = [[0,0,0],[0,0,0],[0,0,0]]\n",
    "\n",
    "for l in range(0,3):\n",
    "    for c in range(0,3):\n",
    "        matriz[l][c] = int(input(f'Digite um valor [{l},{c}]: '))\n",
    "print('-='*30)\n",
    "for l in range(0,3):\n",
    "    for c in range(0,3):\n",
    "        print(f'[{matriz[l][c]:^5}]', end='')\n",
    "    print()\n",
    "\n",
    "print(f'Aqui temos a nossa matriz') \n",
    "\n",
    "\n",
    "\n",
    "\n",
    "print('---'*20)\n",
    "pares =[]\n",
    "terceira_coluna = []\n",
    "maior = 0\n",
    "n = 0\n",
    "\n",
    "\n",
    "\n",
    "for linha in matriz:\n",
    "    for numero in linha:\n",
    "        if numero == matriz[n][2]:\n",
    "            terceira_coluna.append(numero)\n",
    "        if numero %2 == 0:\n",
    "            pares.append(numero)\n",
    "        \n",
    "    n += 1\n",
    "\n",
    "for c in range(0,3):\n",
    "    if c==0:\n",
    "        maior == matriz[1][c]\n",
    "    elif matriz[1][c] > maior:\n",
    "        maior= matriz[1][c]\n",
    "    \n",
    "\n",
    "\n",
    "   \n",
    "\n",
    "print(f'A)A soma de todos os valores pares digitados é:',sum(pares))\n",
    "print(f'B) A soma dos valores da terceira coluna é:',sum(terceira_coluna))\n",
    "print(f'C) O maior valor da segunda linha.',maior)\n"
   ]
  },
  {
   "cell_type": "code",
   "execution_count": 83,
   "metadata": {},
   "outputs": [
    {
     "name": "stdout",
     "output_type": "stream",
     "text": [
      "\n",
      "==============================Exercício Python 88===============================\n",
      "Faça um programa que ajude um jogador da MEGA SENA a criar palpites.\n",
      "O programa vai perguntar quantos jogos serão gerados e vai sortear 6 números entre\n",
      "1 e 60 para cada jogo, cadastrando tudo em uma lista composta.\n",
      "\n",
      "-=-=-=-=-=-=-=-=-=-=-=-=-=-=-=\n",
      "    PALPITES DA MEGA SENNA    \n",
      "-=-=-=-=-=-=-=-=-=-=-=-=-=-=-=\n",
      "\n"
     ]
    },
    {
     "name": "stdout",
     "output_type": "stream",
     "text": [
      "Jogo 1: [27, 31, 39, 10, 2, 8]\n",
      "Jogo 2: [53, 27, 10, 43, 17, 38]\n",
      "Jogo 3: [51, 55, 60, 12, 7, 47]\n",
      "Jogo 4: [26, 49, 11, 37, 34, 4]\n",
      "   BOA SORTE NA MEGA SENNA!   \n"
     ]
    }
   ],
   "source": [
    "print()\n",
    "print('{:=^80}'.format('Exercício Python 88'))\n",
    "print('Faça um programa que ajude um jogador da MEGA SENA a criar palpites.')\n",
    "print('O programa vai perguntar quantos jogos serão gerados e vai sortear 6 números entre')\n",
    "print('1 e 60 para cada jogo, cadastrando tudo em uma lista composta.')\n",
    "print()\n",
    "import random\n",
    "from time import sleep\n",
    "print('-='*15)\n",
    "print('{:^30}'.format(' PALPITES DA MEGA SENNA'))\n",
    "print('-='*15)\n",
    "print()\n",
    "\n",
    "# Pergunta quantos jogos o usuário quer gerar\n",
    "jogos = int(input('Quantos jogos você quer que eu sorteie? '))\n",
    "matrizes = []\n",
    "\n",
    "# Gera os palpites para cada jogo\n",
    "for jogo in range(1, jogos + 1):\n",
    "    matriz = []\n",
    "    for numero in range(6):\n",
    "        numero = random.randint(1, 60)\n",
    "        matriz.append(numero)\n",
    "    matrizes.append(matriz)\n",
    "\n",
    "# Exibe os palpites gerados\n",
    "for i, matriz in enumerate(matrizes, start=1):\n",
    "    print(f'Jogo {i}: {matriz}')\n",
    "    sleep(1)\n",
    "print('{:^30}'.format(' BOA SORTE NA MEGA SENNA!'))"
   ]
  }
 ],
 "metadata": {
  "kernelspec": {
   "display_name": "Python 3",
   "language": "python",
   "name": "python3"
  },
  "language_info": {
   "codemirror_mode": {
    "name": "ipython",
    "version": 3
   },
   "file_extension": ".py",
   "mimetype": "text/x-python",
   "name": "python",
   "nbconvert_exporter": "python",
   "pygments_lexer": "ipython3",
   "version": "3.10.12"
  }
 },
 "nbformat": 4,
 "nbformat_minor": 2
}
