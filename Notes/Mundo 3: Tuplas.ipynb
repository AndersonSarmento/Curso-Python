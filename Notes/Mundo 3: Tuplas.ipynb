{
 "cells": [
  {
   "cell_type": "markdown",
   "metadata": {},
   "source": [
    "Nessa aula, vamos aprender o que são TUPLAS e como utilizar tuplas em Python. As tuplas são variáveis compostas e imutáveis que permitem armazenar vários valores em uma mesma estrutura, acessíveis por chaves individuais.\n"
   ]
  },
  {
   "cell_type": "markdown",
   "metadata": {},
   "source": [
    "### Símbolos das estrutura de variaveis compostas "
   ]
  },
  {
   "cell_type": "code",
   "execution_count": 70,
   "metadata": {},
   "outputs": [],
   "source": [
    "#parentes \n",
    "tupla = ()\n",
    "#colchetes\n",
    "lista = []\n",
    "#chaves \n",
    "dicionario = {}"
   ]
  },
  {
   "cell_type": "code",
   "execution_count": 71,
   "metadata": {},
   "outputs": [
    {
     "name": "stdout",
     "output_type": "stream",
     "text": [
      "('Hamburgue', 'Suco', 'Pizza', 'Pudim')\n",
      "<class 'tuple'>\n"
     ]
    }
   ],
   "source": [
    "lanches = ('Hamburgue', 'Suco' , 'Pizza', 'Pudim')\n",
    "print(lanches)\n",
    "print(type(lanches))\n"
   ]
  },
  {
   "cell_type": "markdown",
   "metadata": {},
   "source": [
    "#### Fatiamento"
   ]
  },
  {
   "cell_type": "code",
   "execution_count": 72,
   "metadata": {},
   "outputs": [
    {
     "name": "stdout",
     "output_type": "stream",
     "text": [
      "Qual é o lanche de número 1 da tupla?\n",
      "É o Suco\n",
      "Qual a posição do Pudim?\n",
      "A posição -1 igual Pudim\n",
      "Exiba todos os lanches da tupla\n",
      "('Hamburgue', 'Suco', 'Pizza', 'Pudim')\n",
      "Exiba o primeiro e o último , lanche na ordem inversa\n",
      "Pudim e Hamburgue\n",
      "Mostre todos os lanches  começando na Pizza e até o fim\n",
      "('Pizza', 'Pudim')\n",
      "Mostre os lanches do Pudim e indo até Suco\n",
      "('Suco', 'Pizza', 'Pudim')\n"
     ]
    }
   ],
   "source": [
    "print(f'Qual é o lanche de número 1 da tupla?')\n",
    "print(f'É o {lanches[1]}')\n",
    "print(f'Qual a posição do Pudim?')\n",
    "print(f'A posição -1 igual {lanches[-1]}')\n",
    "print(f'Exiba todos os lanches da tupla')\n",
    "print(lanches[0:])\n",
    "print(f'Exiba o primeiro e o último , lanche na ordem inversa')\n",
    "print(lanches[-1],'e',lanches[-4])\n",
    "print(f'Mostre todos os lanches  começando na Pizza e até o fim')\n",
    "print(lanches[2:])\n",
    "print(f'Mostre os lanches do Pudim e indo até Suco')\n",
    "print(lanches[1:4])"
   ]
  },
  {
   "cell_type": "markdown",
   "metadata": {},
   "source": [
    "Observe que existem duas forma de ter o mesmo resultado com FOR "
   ]
  },
  {
   "cell_type": "code",
   "execution_count": 73,
   "metadata": {},
   "outputs": [
    {
     "name": "stdout",
     "output_type": "stream",
     "text": [
      "Eu vou comer Hamburgue!\n",
      "Eu vou comer Suco!\n",
      "Eu vou comer Pizza!\n",
      "Eu vou comer Pudim!\n",
      "Comi muito, né !\n"
     ]
    }
   ],
   "source": [
    "for comida in lanches:\n",
    "    print(f'Eu vou comer {comida}!')\n",
    "print('Comi muito, né !')"
   ]
  },
  {
   "cell_type": "code",
   "execution_count": 74,
   "metadata": {},
   "outputs": [
    {
     "name": "stdout",
     "output_type": "stream",
     "text": [
      "Eu vou comer Hamburgue!\n",
      "Eu vou comer Suco!\n",
      "Eu vou comer Pizza!\n",
      "Eu vou comer Pudim!\n",
      "Comi muito, né !\n"
     ]
    }
   ],
   "source": [
    "for cont in range(0,len(lanches)):\n",
    "    print(f'Eu vou comer {lanches[cont]}!')\n",
    "print('Comi muito, né !')"
   ]
  },
  {
   "cell_type": "code",
   "execution_count": 78,
   "metadata": {},
   "outputs": [
    {
     "name": "stdout",
     "output_type": "stream",
     "text": [
      "Eu vou comer Hamburgue na posição 0\n",
      "Eu vou comer Suco na posição 1\n",
      "Eu vou comer Pizza na posição 2\n",
      "Eu vou comer Pudim na posição 3\n",
      "Comi muito, né !\n"
     ]
    }
   ],
   "source": [
    "for cont in range(0,len(lanches)):\n",
    "    print(f'Eu vou comer {lanches[cont]} na posição {cont}')\n",
    "print('Comi muito, né !')\n"
   ]
  },
  {
   "cell_type": "code",
   "execution_count": 77,
   "metadata": {},
   "outputs": [
    {
     "name": "stdout",
     "output_type": "stream",
     "text": [
      "Eu vou comer Hamburgue na posição 0\n",
      "Eu vou comer Suco na posição 1\n",
      "Eu vou comer Pizza na posição 2\n",
      "Eu vou comer Pudim na posição 3\n",
      "Comi muito, né !\n"
     ]
    }
   ],
   "source": [
    "for pos,comida in enumerate (lanches):\n",
    "    print(f'Eu vou comer {comida} na posição {pos}')\n",
    "print('Comi muito, né !')"
   ]
  }
 ],
 "metadata": {
  "kernelspec": {
   "display_name": "Python 3",
   "language": "python",
   "name": "python3"
  },
  "language_info": {
   "codemirror_mode": {
    "name": "ipython",
    "version": 3
   },
   "file_extension": ".py",
   "mimetype": "text/x-python",
   "name": "python",
   "nbconvert_exporter": "python",
   "pygments_lexer": "ipython3",
   "version": "3.10.12"
  }
 },
 "nbformat": 4,
 "nbformat_minor": 2
}
