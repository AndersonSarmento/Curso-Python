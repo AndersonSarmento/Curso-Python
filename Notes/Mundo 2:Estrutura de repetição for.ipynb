{
 "cells": [
  {
   "cell_type": "markdown",
   "metadata": {},
   "source": [
    "Estrutura de repetição for"
   ]
  },
  {
   "cell_type": "code",
   "execution_count": 2,
   "metadata": {},
   "outputs": [
    {
     "name": "stdout",
     "output_type": "stream",
     "text": [
      "OI\n",
      "OI\n",
      "OI\n",
      "OI\n",
      "OI\n",
      "OI\n"
     ]
    }
   ],
   "source": [
    "print('OI')\n",
    "print('OI')\n",
    "print('OI')\n",
    "print('OI')\n",
    "print('OI')\n",
    "print('OI')"
   ]
  },
  {
   "cell_type": "code",
   "execution_count": 7,
   "metadata": {},
   "outputs": [
    {
     "name": "stdout",
     "output_type": "stream",
     "text": [
      "OI\n",
      "OI\n",
      "OI\n",
      "OI\n",
      "OI\n",
      "FIM\n"
     ]
    }
   ],
   "source": [
    "for lista in range(1,6):\n",
    "    print('OI')\n",
    "print('FIM')"
   ]
  },
  {
   "cell_type": "code",
   "execution_count": 16,
   "metadata": {},
   "outputs": [
    {
     "name": "stdout",
     "output_type": "stream",
     "text": [
      "1\n",
      "2\n",
      "3\n",
      "4\n",
      "5\n",
      "6\n",
      "FIM\n"
     ]
    }
   ],
   "source": [
    "#contando de 1 até 6\n",
    "for lista in range(1,7):\n",
    "    print(lista)\n",
    "print('FIM')"
   ]
  },
  {
   "cell_type": "code",
   "execution_count": 15,
   "metadata": {},
   "outputs": [
    {
     "name": "stdout",
     "output_type": "stream",
     "text": [
      "6\n",
      "5\n",
      "4\n",
      "3\n",
      "2\n",
      "1\n",
      "FIM\n"
     ]
    }
   ],
   "source": [
    "#contando de 6 até 1\n",
    "for lista in range(6,0,-1):\n",
    "    print(lista)\n",
    "print('FIM')"
   ]
  },
  {
   "cell_type": "code",
   "execution_count": 20,
   "metadata": {},
   "outputs": [
    {
     "name": "stdout",
     "output_type": "stream",
     "text": [
      "2\n",
      "4\n",
      "6\n",
      "8\n",
      "10\n",
      "FIM\n"
     ]
    }
   ],
   "source": [
    "#contando até 10 somente os pares \n",
    "for lista in range(2,12,2):\n",
    "    print(lista)\n",
    "print('FIM')"
   ]
  },
  {
   "cell_type": "code",
   "execution_count": 21,
   "metadata": {},
   "outputs": [
    {
     "name": "stdout",
     "output_type": "stream",
     "text": [
      "1\n",
      "3\n",
      "5\n",
      "7\n",
      "9\n",
      "FIM\n"
     ]
    }
   ],
   "source": [
    "#contando até 10 somente os impares \n",
    "for lista in range(1,10,2):\n",
    "    print(lista)\n",
    "print('FIM')"
   ]
  },
  {
   "cell_type": "code",
   "execution_count": 25,
   "metadata": {},
   "outputs": [
    {
     "name": "stdout",
     "output_type": "stream",
     "text": [
      "1\n",
      "2\n",
      "3\n",
      "4\n",
      "5\n",
      "6\n",
      "7\n",
      "8\n",
      "9\n",
      "10\n",
      "Fim\n"
     ]
    }
   ],
   "source": [
    "numero = int(input('Digite um número de sua escolha:'))\n",
    "for lista in range(1,numero+1):\n",
    "    print(lista)\n",
    "print('Fim')\n",
    "\n"
   ]
  },
  {
   "cell_type": "code",
   "execution_count": 26,
   "metadata": {},
   "outputs": [
    {
     "name": "stdout",
     "output_type": "stream",
     "text": [
      "2\n",
      "4\n",
      "6\n",
      "8\n",
      "10\n",
      "12\n",
      "14\n",
      "16\n",
      "18\n",
      "20\n",
      "Fim\n"
     ]
    }
   ],
   "source": [
    "i = int(input('Inicio: '))\n",
    "f = int(input('Fim: '))\n",
    "p = int(input('Passo: '))\n",
    "\n",
    "for passos in range(i,f+1,p):\n",
    "    print(passos)\n",
    "print('Fim')\n"
   ]
  },
  {
   "cell_type": "code",
   "execution_count": 40,
   "metadata": {},
   "outputs": [
    {
     "name": "stdout",
     "output_type": "stream",
     "text": [
      "Adiciona: 5\n",
      "A soma de todos os valores foi 5\n",
      "Adiciona: 9\n",
      "A soma de todos os valores foi 14\n",
      "Adiciona: 8\n",
      "A soma de todos os valores foi 22\n",
      "Adiciona: 9\n",
      "A soma de todos os valores foi 31\n",
      "Adiciona: 9\n",
      "A soma de todos os valores foi 40\n",
      "Adiciona: 9\n",
      "A soma de todos os valores foi 49\n",
      "FIM\n"
     ]
    }
   ],
   "source": [
    "s=0\n",
    "x = int(input('Quantos números você deseja somar?'))\n",
    "for c in range(0,x):\n",
    "    n =int(input('Digite um valor: '))\n",
    "    print('Adiciona:',n)\n",
    "    s += n\n",
    "    print('A soma de todos os valores foi {}'.format(s))\n",
    "print('FIM')"
   ]
  },
  {
   "cell_type": "code",
   "execution_count": 41,
   "metadata": {},
   "outputs": [
    {
     "name": "stdout",
     "output_type": "stream",
     "text": [
      "A soma de todos os valores foi 6\n"
     ]
    }
   ],
   "source": [
    "s=0\n",
    "x = int(input('Quantos números você deseja somar?'))\n",
    "for c in range(0,x):\n",
    "    n =int(input('Digite um valor: '))\n",
    "    s += n\n",
    "print('A soma de todos os valores foi {}'.format(s))"
   ]
  }
 ],
 "metadata": {
  "kernelspec": {
   "display_name": "Python 3",
   "language": "python",
   "name": "python3"
  },
  "language_info": {
   "codemirror_mode": {
    "name": "ipython",
    "version": 3
   },
   "file_extension": ".py",
   "mimetype": "text/x-python",
   "name": "python",
   "nbconvert_exporter": "python",
   "pygments_lexer": "ipython3",
   "version": "3.10.12"
  }
 },
 "nbformat": 4,
 "nbformat_minor": 2
}
