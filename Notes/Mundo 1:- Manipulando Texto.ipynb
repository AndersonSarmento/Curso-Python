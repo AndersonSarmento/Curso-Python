{
 "cells": [
  {
   "cell_type": "markdown",
   "metadata": {},
   "source": [
    "### Curso Python 09 - Manipulando Texto\n",
    "link do video:\n",
    "https://youtu.be/a7DH88vk2Sk"
   ]
  },
  {
   "cell_type": "code",
   "execution_count": 80,
   "metadata": {},
   "outputs": [
    {
     "name": "stdout",
     "output_type": "stream",
     "text": [
      "Curso em Video Python\n"
     ]
    }
   ],
   "source": [
    "frase = 'Curso em Video Python'\n",
    "print(frase)"
   ]
  },
  {
   "cell_type": "markdown",
   "metadata": {},
   "source": [
    "Fatiar um String"
   ]
  },
  {
   "cell_type": "code",
   "execution_count": 81,
   "metadata": {},
   "outputs": [
    {
     "name": "stdout",
     "output_type": "stream",
     "text": [
      "Qual é o 10 caractere da frase Curso em Video Python ?\n",
      "É a letra V .\n"
     ]
    }
   ],
   "source": [
    "print('Qual é o 10 caractere da frase',frase, '?')\n",
    "caractere = frase[9]\n",
    "print('É a letra',caractere,'.')"
   ]
  },
  {
   "cell_type": "code",
   "execution_count": 82,
   "metadata": {},
   "outputs": [
    {
     "name": "stdout",
     "output_type": "stream",
     "text": [
      "Imprime o pedaço da frase que forma a palavra Vide Curso em Video Python ?\n",
      "Vide\n"
     ]
    }
   ],
   "source": [
    "print('Imprime o pedaço da frase que forma a palavra Vide',frase, '?')\n",
    "caractere = frase[9:13]\n",
    "print(caractere)"
   ]
  },
  {
   "cell_type": "code",
   "execution_count": 83,
   "metadata": {},
   "outputs": [
    {
     "name": "stdout",
     "output_type": "stream",
     "text": [
      "Imprime o pedaço da frase que forma a palavra Video Python Curso em Video Python ?\n",
      "Video Python\n"
     ]
    }
   ],
   "source": [
    "print('Imprime o pedaço da frase que forma a palavra Video Python',frase, '?')\n",
    "caractere = frase[9:21]\n",
    "print(caractere)"
   ]
  },
  {
   "cell_type": "code",
   "execution_count": 84,
   "metadata": {},
   "outputs": [
    {
     "name": "stdout",
     "output_type": "stream",
     "text": [
      "Imprime o pedaço da frase que forma a palavra Vdo Pto, Curso em Video Python ?\n",
      "VdoPto\n"
     ]
    }
   ],
   "source": [
    "print('Imprime o pedaço da frase que forma a palavra Vdo Pto,',frase, '?')\n",
    "caractere = frase[9:21:2]\n",
    "print(caractere)"
   ]
  },
  {
   "cell_type": "code",
   "execution_count": 85,
   "metadata": {},
   "outputs": [
    {
     "name": "stdout",
     "output_type": "stream",
     "text": [
      "Imprime o pedaço da frase que forma a palavra Curso Curso em Video Python ?\n",
      "Curso\n"
     ]
    }
   ],
   "source": [
    "print('Imprime o pedaço da frase que forma a palavra Curso',frase, '?')\n",
    "caractere = frase[:5]\n",
    "print(caractere)"
   ]
  },
  {
   "cell_type": "code",
   "execution_count": 86,
   "metadata": {},
   "outputs": [
    {
     "name": "stdout",
     "output_type": "stream",
     "text": [
      "Imprime o pedaço da frase que forma a palavra Python Curso em Video Python ?\n",
      "Python\n"
     ]
    }
   ],
   "source": [
    "print('Imprime o pedaço da frase que forma a palavra Python',frase, '?')\n",
    "caractere = frase[15:]\n",
    "print(caractere)"
   ]
  },
  {
   "cell_type": "code",
   "execution_count": 87,
   "metadata": {},
   "outputs": [
    {
     "name": "stdout",
     "output_type": "stream",
     "text": [
      "Imprime o pedaço da frase que forma a palavra VePh Curso em Video Python ?\n",
      "VePh\n"
     ]
    }
   ],
   "source": [
    "print('Imprime o pedaço da frase que forma a palavra VePh',frase, '?')\n",
    "caractere = frase[9::3]\n",
    "print(caractere)"
   ]
  },
  {
   "cell_type": "markdown",
   "metadata": {},
   "source": [
    "Análise de String"
   ]
  },
  {
   "cell_type": "code",
   "execution_count": 88,
   "metadata": {},
   "outputs": [
    {
     "name": "stdout",
     "output_type": "stream",
     "text": [
      "Qual o tamanho da frase, Curso em Video Python ?\n",
      "O tamanho é de: 21 caracteres!\n"
     ]
    }
   ],
   "source": [
    "print('Qual o tamanho da frase,',frase, '?')\n",
    "caractere = len(frase)\n",
    "print('O tamanho é de:', caractere,'caracteres!' )"
   ]
  },
  {
   "cell_type": "code",
   "execution_count": 89,
   "metadata": {},
   "outputs": [
    {
     "name": "stdout",
     "output_type": "stream",
     "text": [
      "Qual o tamanho da frase, Curso em Video Python ?\n",
      "O tamanho é de: 21 caracteres!\n"
     ]
    }
   ],
   "source": [
    "print('Qual o tamanho da frase,',frase, '?')\n",
    "caractere = len(frase)\n",
    "print('O tamanho é de:', caractere,'caracteres!' )"
   ]
  },
  {
   "cell_type": "code",
   "execution_count": 90,
   "metadata": {},
   "outputs": [
    {
     "name": "stdout",
     "output_type": "stream",
     "text": [
      "Quantas vezes temos a letra O na frase, Curso em Video Python ?\n",
      "Temos: 3 vezes!\n"
     ]
    }
   ],
   "source": [
    "print('Quantas vezes temos a letra O na frase,',frase, '?')\n",
    "caractere = frase.count('o')\n",
    "print('Temos:', caractere,'vezes!' )"
   ]
  },
  {
   "cell_type": "code",
   "execution_count": 91,
   "metadata": {},
   "outputs": [
    {
     "name": "stdout",
     "output_type": "stream",
     "text": [
      "Quantas vezes temos a letra O na frase, Curso em Video Python ?\n",
      "Temos: 3 vezes!\n"
     ]
    }
   ],
   "source": [
    "print('Quantas vezes temos a letra O na frase,',frase, '?')\n",
    "caractere = frase.count('o')\n",
    "print('Temos:', caractere,'vezes!' )"
   ]
  },
  {
   "cell_type": "code",
   "execution_count": 92,
   "metadata": {},
   "outputs": [
    {
     "name": "stdout",
     "output_type": "stream",
     "text": [
      "Quantas vezes temos a letra O na frase até 13 caractere ?\n",
      "Temos: 1 vezes!\n"
     ]
    }
   ],
   "source": [
    "print('Quantas vezes temos a letra O na frase até 13 caractere ?')\n",
    "caractere = frase.count('o',0,13)\n",
    "print('Temos:', caractere,'vezes!' )"
   ]
  },
  {
   "cell_type": "code",
   "execution_count": 93,
   "metadata": {},
   "outputs": [
    {
     "name": "stdout",
     "output_type": "stream",
     "text": [
      "Ache a onde começa a palavra deo na frase ?\n",
      "Está na posição 11\n"
     ]
    }
   ],
   "source": [
    "print('Ache a onde começa a palavra deo na frase ?')\n",
    "caractere = frase.find('deo')\n",
    "print('Está na posição',caractere )"
   ]
  },
  {
   "cell_type": "code",
   "execution_count": 94,
   "metadata": {},
   "outputs": [
    {
     "name": "stdout",
     "output_type": "stream",
     "text": [
      "Ache a onde começa a palavra Android na frase ?\n",
      "Está na posição -1\n"
     ]
    }
   ],
   "source": [
    "print('Ache a onde começa a palavra Android na frase ?')\n",
    "caractere = frase.find('Android')\n",
    "print('Está na posição',caractere )"
   ]
  },
  {
   "cell_type": "code",
   "execution_count": 95,
   "metadata": {},
   "outputs": [
    {
     "name": "stdout",
     "output_type": "stream",
     "text": [
      "Existe a palvra Curso na frase ?\n",
      "True\n"
     ]
    }
   ],
   "source": [
    "print('Existe a palvra Curso na frase ?')\n",
    "caractere =('Curso' in frase)\n",
    "print(caractere)"
   ]
  },
  {
   "cell_type": "markdown",
   "metadata": {},
   "source": [
    "Transformação Strings "
   ]
  },
  {
   "cell_type": "code",
   "execution_count": 96,
   "metadata": {},
   "outputs": [
    {
     "name": "stdout",
     "output_type": "stream",
     "text": [
      "Substitua a palavra Python por Android na frase: O curso é de Python\n",
      "O curso é de Android\n"
     ]
    }
   ],
   "source": [
    "frase2 =('O curso é de Python')\n",
    "print('Substitua a palavra Python por Android na frase:',frase2)\n",
    "print(frase2.replace('Python','Android'))"
   ]
  },
  {
   "cell_type": "code",
   "execution_count": 97,
   "metadata": {},
   "outputs": [
    {
     "name": "stdout",
     "output_type": "stream",
     "text": [
      "Coloque a frase em maiúsculo e depois minúscula : O curso é de Python\n",
      "O CURSO É DE PYTHON\n",
      "o curso é de python\n"
     ]
    }
   ],
   "source": [
    "print('Coloque a frase em maiúsculo e depois minúscula :',frase2)\n",
    "print(frase2.upper())\n",
    "print(frase2.lower())"
   ]
  },
  {
   "cell_type": "code",
   "execution_count": 98,
   "metadata": {},
   "outputs": [
    {
     "name": "stdout",
     "output_type": "stream",
     "text": [
      "Coloque a frase em com primeira letra em maiúsculo : O curso é de Python\n",
      "O curso é de python\n"
     ]
    }
   ],
   "source": [
    "print('Coloque a frase em com primeira letra em maiúsculo :',frase2)\n",
    "print(frase2.capitalize())\n"
   ]
  },
  {
   "cell_type": "code",
   "execution_count": 99,
   "metadata": {},
   "outputs": [
    {
     "name": "stdout",
     "output_type": "stream",
     "text": [
      "Coloque a frase em letra em maiúsculo: O curso é de Python\n",
      "O Curso É De Python\n"
     ]
    }
   ],
   "source": [
    "print('Coloque a frase em letra em maiúsculo:',frase2)\n",
    "print(frase2.title())"
   ]
  },
  {
   "cell_type": "code",
   "execution_count": 100,
   "metadata": {},
   "outputs": [
    {
     "name": "stdout",
     "output_type": "stream",
     "text": [
      "Remova os espaços do fim e do começo da frase:    O curso é de Python   \n",
      "Remova todos os espaços: O curso é de Python\n",
      "Remova todos os espaços direita:    O curso é de Python\n",
      "Remova todos os espaços esquerda: O curso é de Python   \n"
     ]
    }
   ],
   "source": [
    "frase3 = ('   O curso é de Python   ')\n",
    "print('Remova os espaços do fim e do começo da frase:',frase3)\n",
    "print('Remova todos os espaços:',frase3.strip())\n",
    "print('Remova todos os espaços direita:',frase3.rstrip())\n",
    "print('Remova todos os espaços esquerda:',frase3.lstrip())"
   ]
  },
  {
   "cell_type": "markdown",
   "metadata": {},
   "source": [
    "Divisão de Strings "
   ]
  },
  {
   "cell_type": "code",
   "execution_count": 107,
   "metadata": {},
   "outputs": [
    {
     "name": "stdout",
     "output_type": "stream",
     "text": [
      "O split é uma  forma de dividir uma string \n",
      "['Curso', 'em', 'Video', 'Python']\n",
      "Curso em Video Python\n",
      "22\n"
     ]
    }
   ],
   "source": [
    "print('O split é uma  forma de dividir uma string ')\n",
    "print(frase.split())\n",
    "print(''.join(frase))\n",
    "print(frase.count(''))"
   ]
  }
 ],
 "metadata": {
  "kernelspec": {
   "display_name": "Python 3",
   "language": "python",
   "name": "python3"
  },
  "language_info": {
   "codemirror_mode": {
    "name": "ipython",
    "version": 3
   },
   "file_extension": ".py",
   "mimetype": "text/x-python",
   "name": "python",
   "nbconvert_exporter": "python",
   "pygments_lexer": "ipython3",
   "version": "3.10.12"
  },
  "orig_nbformat": 4
 },
 "nbformat": 4,
 "nbformat_minor": 2
}
