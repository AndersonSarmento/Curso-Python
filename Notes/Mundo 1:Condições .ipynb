{
 "cells": [
  {
   "cell_type": "markdown",
   "metadata": {},
   "source": [
    "Condições"
   ]
  },
  {
   "cell_type": "code",
   "execution_count": 1,
   "metadata": {},
   "outputs": [
    {
     "ename": "ValueError",
     "evalue": "invalid literal for int() with base 10: ''",
     "output_type": "error",
     "traceback": [
      "\u001b[0;31m---------------------------------------------------------------------------\u001b[0m",
      "\u001b[0;31mValueError\u001b[0m                                Traceback (most recent call last)",
      "Cell \u001b[0;32mIn[1], line 1\u001b[0m\n\u001b[0;32m----> 1\u001b[0m tempo \u001b[38;5;241m=\u001b[39m \u001b[38;5;28;43mint\u001b[39;49m\u001b[43m(\u001b[49m\u001b[38;5;28;43minput\u001b[39;49m\u001b[43m(\u001b[49m\u001b[38;5;124;43m\"\u001b[39;49m\u001b[38;5;124;43mQuantos anos tem o seu carro?\u001b[39;49m\u001b[38;5;124;43m\"\u001b[39;49m\u001b[43m)\u001b[49m\u001b[43m)\u001b[49m\n\u001b[1;32m      2\u001b[0m \u001b[38;5;28;01mif\u001b[39;00m tempo \u001b[38;5;241m<\u001b[39m\u001b[38;5;241m=\u001b[39m\u001b[38;5;241m3\u001b[39m:\n\u001b[1;32m      3\u001b[0m     \u001b[38;5;28mprint\u001b[39m(\u001b[38;5;124m'\u001b[39m\u001b[38;5;124mCarro Novo\u001b[39m\u001b[38;5;124m'\u001b[39m)\n",
      "\u001b[0;31mValueError\u001b[0m: invalid literal for int() with base 10: ''"
     ]
    }
   ],
   "source": [
    "tempo = int(input(\"Quantos anos tem o seu carro?\"))\n",
    "if tempo <=3:\n",
    "    print('Carro Novo')\n",
    "else:\n",
    "    print('carro Velho')\n",
    "print('**FIM**')"
   ]
  },
  {
   "cell_type": "code",
   "execution_count": null,
   "metadata": {},
   "outputs": [
    {
     "name": "stdout",
     "output_type": "stream",
     "text": [
      "Outra forma de escrever\n",
      "carro Velho\n",
      "**FIM**\n"
     ]
    }
   ],
   "source": [
    "print('Outra forma de escrever')\n",
    "tempo = int(input(\"Quantos anos tem o seu carro?\"))\n",
    "print('Carro Novo'if tempo <=3 else'carro Velho')\n",
    "print('**FIM**')"
   ]
  },
  {
   "cell_type": "code",
   "execution_count": null,
   "metadata": {},
   "outputs": [
    {
     "name": "stdout",
     "output_type": "stream",
     "text": [
      "Olá Jorge, boa dia !!\n",
      "****FIM****\n"
     ]
    }
   ],
   "source": [
    "nome = str(input('Qual é o seu nome?'))\n",
    "if nome == 'Jorge':\n",
    "    print('Olá Jorge, boa dia !!')\n",
    "else:\n",
    "    print('Olá bom dia')\n",
    "print('****FIM****')"
   ]
  },
  {
   "cell_type": "code",
   "execution_count": null,
   "metadata": {},
   "outputs": [
    {
     "name": "stdout",
     "output_type": "stream",
     "text": [
      "A sua média foi de 3.0.\n",
      "Reprovado , mas não desanime, Estude Mais!!\n"
     ]
    }
   ],
   "source": [
    "nota1 = float(input('Digite a sua nota: '))\n",
    "nota2 = float(input('Digite a sua nota: '))\n",
    "media = (nota1+nota1)/2\n",
    "print('A sua média foi de {}.'.format(media))\n",
    "print('Aprovado!!' if media >=7 else 'Reprovado , mas não desanime, Estude Mais!!')\n"
   ]
  },
  {
   "cell_type": "code",
   "execution_count": null,
   "metadata": {},
   "outputs": [
    {
     "name": "stdout",
     "output_type": "stream",
     "text": [
      "1\n",
      "2\n",
      "3\n",
      "4\n",
      "5\n",
      "6\n",
      "7\n",
      "8\n",
      "9\n",
      "10\n"
     ]
    }
   ],
   "source": [
    "for c in range(1,11):\n",
    "    print(c)"
   ]
  },
  {
   "cell_type": "code",
   "execution_count": null,
   "metadata": {},
   "outputs": [
    {
     "name": "stdout",
     "output_type": "stream",
     "text": [
      "Fim\n"
     ]
    }
   ],
   "source": [
    "n = 1\n",
    "while n != 0:\n",
    "    n = int(input('Digite um valor: '))\n",
    "print('Fim')    \n"
   ]
  },
  {
   "cell_type": "code",
   "execution_count": null,
   "metadata": {},
   "outputs": [
    {
     "name": "stdout",
     "output_type": "stream",
     "text": [
      "Você digitou 2 números pares e 3 números ímpares!\n"
     ]
    }
   ],
   "source": [
    "n = 1\n",
    "par = impar = 0\n",
    "while n != 0:\n",
    "    n = int(input('Digite um valor: '))\n",
    "    if n != 0:\n",
    "        if n % 2 == 0:\n",
    "            par += 1\n",
    "        else:\n",
    "            impar += 1\n",
    "print('Você digitou {} números pares e {} números ímpares!'.format(par, impar))    "
   ]
  },
  {
   "cell_type": "code",
   "execution_count": 7,
   "metadata": {},
   "outputs": [
    {
     "data": {
      "text/plain": [
       "'O Eduardo foi a escola'"
      ]
     },
     "execution_count": 7,
     "metadata": {},
     "output_type": "execute_result"
    }
   ],
   "source": [
    "template = 'O {} foi a escola'\n",
    "template.format('Eduardo')\n"
   ]
  },
  {
   "cell_type": "code",
   "execution_count": null,
   "metadata": {},
   "outputs": [],
   "source": []
  }
 ],
 "metadata": {
  "kernelspec": {
   "display_name": "Python 3",
   "language": "python",
   "name": "python3"
  },
  "language_info": {
   "codemirror_mode": {
    "name": "ipython",
    "version": 3
   },
   "file_extension": ".py",
   "mimetype": "text/x-python",
   "name": "python",
   "nbconvert_exporter": "python",
   "pygments_lexer": "ipython3",
   "version": "3.10.12"
  },
  "orig_nbformat": 4
 },
 "nbformat": 4,
 "nbformat_minor": 2
}
