{
 "cells": [
  {
   "cell_type": "markdown",
   "metadata": {},
   "source": [
    "<br/>\n",
    "Crie um script Python que leia o nome de uma pessoa e mostre\n",
    "<br/> uma mensagem de  boas-vindas de acordo com o valor digitado."
   ]
  },
  {
   "cell_type": "code",
   "execution_count": 21,
   "metadata": {},
   "outputs": [
    {
     "name": "stdout",
     "output_type": "stream",
     "text": [
      "Olá ,seja bem vindo e é um prazer te conhecer \n"
     ]
    }
   ],
   "source": [
    "nome =  input('Qual é o seu nome ?')\n",
    "print(f'Olá {nome},seja bem vindo e é um prazer te conhecer ')"
   ]
  },
  {
   "cell_type": "markdown",
   "metadata": {},
   "source": [
    "<br />Crie um script Python que leia o dia, o mês e o ano de nascimento <br />\n",
    "  de uma pessoa e mostre uma mensagem com a data formatada."
   ]
  },
  {
   "cell_type": "code",
   "execution_count": 22,
   "metadata": {},
   "outputs": [
    {
     "name": "stdout",
     "output_type": "stream",
     "text": [
      "Você nasceu no dia  de  de .Correto?\n"
     ]
    }
   ],
   "source": [
    "ano = input('Qual o ano que vc nasceu?')\n",
    "mes = input('Qual o mês que vc nasceu?')\n",
    "dia = input('Qual o dia que vc nasceu?') \n",
    "print(f'Você nasceu no dia {dia} de {mes} de {ano}.Correto?')"
   ]
  },
  {
   "cell_type": "markdown",
   "metadata": {},
   "source": [
    "<br />\n",
    "Crie um script Python que leia dois numeros e\n",
    "<br /> tente mostrar a  soam entre eles"
   ]
  },
  {
   "cell_type": "code",
   "execution_count": 23,
   "metadata": {},
   "outputs": [
    {
     "ename": "ValueError",
     "evalue": "invalid literal for int() with base 10: ''",
     "output_type": "error",
     "traceback": [
      "\u001b[0;31m---------------------------------------------------------------------------\u001b[0m",
      "\u001b[0;31mValueError\u001b[0m                                Traceback (most recent call last)",
      "\u001b[1;32m/home/ander/Documentos/Estudos/Estudos/Python/Curso-Python/Mundo 1: Fundamentos.ipynb Cell 6\u001b[0m line \u001b[0;36m1\n\u001b[0;32m----> <a href='vscode-notebook-cell:/home/ander/Documentos/Estudos/Estudos/Python/Curso-Python/Mundo%201%3A%20Fundamentos.ipynb#W5sZmlsZQ%3D%3D?line=0'>1</a>\u001b[0m numero1 \u001b[39m=\u001b[39m \u001b[39mint\u001b[39;49m(\u001b[39minput\u001b[39;49m(\u001b[39m'\u001b[39;49m\u001b[39mDigite um número.\u001b[39;49m\u001b[39m'\u001b[39;49m))\n\u001b[1;32m      <a href='vscode-notebook-cell:/home/ander/Documentos/Estudos/Estudos/Python/Curso-Python/Mundo%201%3A%20Fundamentos.ipynb#W5sZmlsZQ%3D%3D?line=1'>2</a>\u001b[0m numero2 \u001b[39m=\u001b[39m \u001b[39mfloat\u001b[39m(\u001b[39minput\u001b[39m(\u001b[39m'\u001b[39m\u001b[39mDigite um número.\u001b[39m\u001b[39m'\u001b[39m))\n\u001b[1;32m      <a href='vscode-notebook-cell:/home/ander/Documentos/Estudos/Estudos/Python/Curso-Python/Mundo%201%3A%20Fundamentos.ipynb#W5sZmlsZQ%3D%3D?line=2'>3</a>\u001b[0m soma \u001b[39m=\u001b[39m numero1 \u001b[39m+\u001b[39m numero2\n",
      "\u001b[0;31mValueError\u001b[0m: invalid literal for int() with base 10: ''"
     ]
    }
   ],
   "source": [
    "numero1 = int(input('Digite um número.'))\n",
    "numero2 = float(input('Digite um número.'))\n",
    "soma = numero1 + numero2\n",
    "print('A soma de {}+{} é igual a {}'.format(numero1,numero2,soma))"
   ]
  },
  {
   "cell_type": "code",
   "execution_count": null,
   "metadata": {},
   "outputs": [
    {
     "name": "stdout",
     "output_type": "stream",
     "text": [
      "<class 'int'>\n",
      "<class 'float'>\n"
     ]
    }
   ],
   "source": [
    "print(type(numero1))\n",
    "print(type(soma))"
   ]
  },
  {
   "cell_type": "markdown",
   "metadata": {},
   "source": [
    "\n",
    "Faça um programa que leia algo pelo teclado e mostre na tela <br />o seu tipo primitivo e todas as informaçoes possíveis sobre ele."
   ]
  },
  {
   "cell_type": "code",
   "execution_count": null,
   "metadata": {},
   "outputs": [
    {
     "name": "stdout",
     "output_type": "stream",
     "text": [
      "Anders\n",
      "<class 'str'>\n",
      "True\n",
      "True\n",
      "False\n",
      "False\n",
      "False\n",
      "True\n",
      "False\n"
     ]
    }
   ],
   "source": [
    "print(nome)\n",
    "print(type(nome))\n",
    "print(nome.isalnum())\n",
    "print(nome.isalpha())\n",
    "print(nome.isdecimal())\n",
    "print(nome.isupper())\n",
    "print(nome.islower())\n",
    "print(nome.istitle())\n",
    "print(nome.isspace())\n"
   ]
  },
  {
   "cell_type": "markdown",
   "metadata": {},
   "source": [
    "### Operadores \n"
   ]
  },
  {
   "cell_type": "markdown",
   "metadata": {},
   "source": [
    "**Ordem de Precedência dos Operadores** <p>\n",
    "1 - () parênteses <br/>\n",
    "2 - ** exponenciação  \n",
    "3 - *, /, % multiplicação, divisão, módulo<br/>\n",
    "4 - +, – adição, subtração<br/>"
   ]
  },
  {
   "cell_type": "code",
   "execution_count": null,
   "metadata": {},
   "outputs": [],
   "source": []
  },
  {
   "cell_type": "code",
   "execution_count": null,
   "metadata": {},
   "outputs": [
    {
     "name": "stdout",
     "output_type": "stream",
     "text": [
      "O resultado é 6\n",
      "O resultado é 2\n",
      "O resultado é 8\n",
      "O resultado é 2.0\n",
      "O resultado é 2\n",
      "O resultado é 0\n",
      "O resultado é 16\n"
     ]
    }
   ],
   "source": [
    "quatro = 4\n",
    "dois = 2\n",
    "\n",
    "soma = quatro + dois\n",
    "print('O resultado é',soma)  # Resultado: 6\n",
    "\n",
    "subtracao = quatro - dois\n",
    "print('O resultado é',subtracao)  # Resultado: 2\n",
    "\n",
    "multiplicacao = quatro * dois\n",
    "print('O resultado é',multiplicacao)  # Resultado: 8\n",
    "\n",
    "divisao = quatro / dois\n",
    "print('O resultado é', divisao)  # Resultado: 2.0\n",
    "\n",
    "divisao_interna = quatro // dois\n",
    "print('O resultado é',divisao_interna)  # Resultado: 2\n",
    "\n",
    "modulo = quatro % dois\n",
    "print('O resultado é',modulo)  # Resultado: 0\n",
    "\n",
    "exponenciacao = quatro ** dois\n",
    "print('O resultado é',exponenciacao)  # Resultado: 16"
   ]
  },
  {
   "cell_type": "code",
   "execution_count": null,
   "metadata": {},
   "outputs": [
    {
     "name": "stdout",
     "output_type": "stream",
     "text": [
      "555555\n"
     ]
    }
   ],
   "source": [
    "print('5'* 6)"
   ]
  },
  {
   "cell_type": "markdown",
   "metadata": {},
   "source": [
    "### Curso Python 09 - Manipulando Texto\n",
    "link do video:\n",
    "https://youtu.be/a7DH88vk2Sk"
   ]
  },
  {
   "cell_type": "code",
   "execution_count": null,
   "metadata": {},
   "outputs": [
    {
     "name": "stdout",
     "output_type": "stream",
     "text": [
      "Curso em Video Python\n"
     ]
    }
   ],
   "source": [
    "frase = 'Curso em Video Python'\n",
    "print(frase)"
   ]
  },
  {
   "cell_type": "markdown",
   "metadata": {},
   "source": [
    "Fatiar um String"
   ]
  },
  {
   "cell_type": "code",
   "execution_count": null,
   "metadata": {},
   "outputs": [
    {
     "name": "stdout",
     "output_type": "stream",
     "text": [
      "Qual é o 10 caractere da frase Curso em Video Python ?\n",
      "É a letra V .\n"
     ]
    }
   ],
   "source": [
    "print('Qual é o 10 caractere da frase',frase, '?')\n",
    "caractere = frase[9]\n",
    "print('É a letra',caractere,'.')"
   ]
  },
  {
   "cell_type": "code",
   "execution_count": null,
   "metadata": {},
   "outputs": [
    {
     "name": "stdout",
     "output_type": "stream",
     "text": [
      "Imprime o pedaço da frase que forma a palavra Vide Curso em Video Python ?\n",
      "Vide\n"
     ]
    }
   ],
   "source": [
    "print('Imprime o pedaço da frase que forma a palavra Vide',frase, '?')\n",
    "caractere = frase[9:13]\n",
    "print(caractere)"
   ]
  },
  {
   "cell_type": "code",
   "execution_count": null,
   "metadata": {},
   "outputs": [
    {
     "name": "stdout",
     "output_type": "stream",
     "text": [
      "Imprime o pedaço da frase que forma a palavra Video Python Curso em Video Python ?\n",
      "Video Python\n"
     ]
    }
   ],
   "source": [
    "print('Imprime o pedaço da frase que forma a palavra Video Python',frase, '?')\n",
    "caractere = frase[9:21]\n",
    "print(caractere)"
   ]
  },
  {
   "cell_type": "code",
   "execution_count": null,
   "metadata": {},
   "outputs": [
    {
     "name": "stdout",
     "output_type": "stream",
     "text": [
      "Imprime o pedaço da frase que forma a palavra Vdo Pto, Curso em Video Python ?\n",
      "VdoPto\n"
     ]
    }
   ],
   "source": [
    "print('Imprime o pedaço da frase que forma a palavra Vdo Pto,',frase, '?')\n",
    "caractere = frase[9:21:2]\n",
    "print(caractere)"
   ]
  },
  {
   "cell_type": "code",
   "execution_count": 24,
   "metadata": {},
   "outputs": [
    {
     "name": "stdout",
     "output_type": "stream",
     "text": [
      "Imprime o pedaço da frase que forma a palavra Curso Curso em Video Python ?\n",
      "Curso\n"
     ]
    }
   ],
   "source": [
    "print('Imprime o pedaço da frase que forma a palavra Curso',frase, '?')\n",
    "caractere = frase[:5]\n",
    "print(caractere)"
   ]
  },
  {
   "cell_type": "code",
   "execution_count": 27,
   "metadata": {},
   "outputs": [
    {
     "name": "stdout",
     "output_type": "stream",
     "text": [
      "Imprime o pedaço da frase que forma a palavra Python Curso em Video Python ?\n",
      "Python\n"
     ]
    }
   ],
   "source": [
    "print('Imprime o pedaço da frase que forma a palavra Python',frase, '?')\n",
    "caractere = frase[15:]\n",
    "print(caractere)"
   ]
  },
  {
   "cell_type": "code",
   "execution_count": 28,
   "metadata": {},
   "outputs": [
    {
     "name": "stdout",
     "output_type": "stream",
     "text": [
      "Imprime o pedaço da frase que forma a palavra Python Curso em Video Python ?\n",
      "VePh\n"
     ]
    }
   ],
   "source": [
    "print('Imprime o pedaço da frase que forma a palavra VePh',frase, '?')\n",
    "caractere = frase[9::3]\n",
    "print(caractere)"
   ]
  },
  {
   "cell_type": "code",
   "execution_count": null,
   "metadata": {},
   "outputs": [],
   "source": []
  }
 ],
 "metadata": {
  "kernelspec": {
   "display_name": "Python 3",
   "language": "python",
   "name": "python3"
  },
  "language_info": {
   "codemirror_mode": {
    "name": "ipython",
    "version": 3
   },
   "file_extension": ".py",
   "mimetype": "text/x-python",
   "name": "python",
   "nbconvert_exporter": "python",
   "pygments_lexer": "ipython3",
   "version": "3.10.12"
  },
  "orig_nbformat": 4
 },
 "nbformat": 4,
 "nbformat_minor": 2
}
